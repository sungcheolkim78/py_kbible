{
 "cells": [
  {
   "cell_type": "code",
   "execution_count": 1,
   "metadata": {},
   "outputs": [],
   "source": [
    "import kbible"
   ]
  },
  {
   "cell_type": "code",
   "execution_count": 2,
   "metadata": {},
   "outputs": [],
   "source": [
    "bible = kbible.read_full_bible(\"개역개정판성경\")"
   ]
  },
  {
   "cell_type": "code",
   "execution_count": 3,
   "metadata": {},
   "outputs": [
    {
     "name": "stdout",
     "output_type": "stream",
     "text": [
      "`창1:3` 하나님이 이르시되 빛이 있으라 하시니 빛이 있었고 \n"
     ]
    }
   ],
   "source": [
    "print(kbible.extract_bystr(bible, \"창1:3\", form=\"md\"))"
   ]
  },
  {
   "cell_type": "markdown",
   "metadata": {},
   "source": [
    "## print daily message"
   ]
  },
  {
   "cell_type": "code",
   "execution_count": 43,
   "metadata": {},
   "outputs": [],
   "source": [
    "day_info = {\"day\":u\"1\", \"title\":u\"영광과 흑암\", \"song\":u\"하나님은 우리 아버지\", \"prayer\":u\"\", \"summary\":u\"\", \\\n",
    "            \"verses\": [u\"창1:3\", u\"창1:14\", u\"창1:26,28,29\", u\"창2:19\", u\"창2:9\", u\"창2:17\", u\"창3:6-7\", \\\n",
    "              u\"유1:6\", u\"벧후2:4\", u\"창3:17-18\", u\"왕하6:17\", u\"행26:18\", u\"롬1:19-20\", u\"요12:46\", \\\n",
    "              u\"골1:13\", u\"단2:22\", u\"요일5:19\"]}"
   ]
  },
  {
   "cell_type": "code",
   "execution_count": 44,
   "metadata": {},
   "outputs": [
    {
     "data": {
      "text/plain": [
       "'1'"
      ]
     },
     "execution_count": 44,
     "metadata": {},
     "output_type": "execute_result"
    }
   ],
   "source": [
    "day_info[\"day\"]"
   ]
  },
  {
   "cell_type": "code",
   "execution_count": 62,
   "metadata": {},
   "outputs": [],
   "source": [
    "def make_mdpage(bible, day_info, save=False):\n",
    "    \"\"\" print all verses in list using markdown format \"\"\"\n",
    "    \n",
    "    # check day_info.yml file\n",
    "    if isinstance(day_info, str):\n",
    "        try:\n",
    "            with open(day_info, \"r\") as f:\n",
    "                day_info = yaml.load(f, yaml.BaseLoader)\n",
    "        except:\n",
    "            print(\"... file: {} parser error!\".format(day_info))\n",
    "            return 0\n",
    "        \n",
    "    bible_version = \"\"\n",
    "    # check bible version\n",
    "    if isinstance(bible, str):\n",
    "        try:\n",
    "            bible_version = \"-\" + bible\n",
    "            bible = kbible.read_full_bible(bible)\n",
    "        except:\n",
    "            print(\"... read error: {}\".format(bible_version))\n",
    "            return 0\n",
    "    \n",
    "    msg = \"# {}일차 - {}\\n\\n\".format(day_info[\"day\"],day_info[\"title\"])\n",
    "    msg = msg + \"찬양 : {}\\n\\n\".format(day_info[\"song\"])\n",
    "    msg = msg + \"기도 : {}\\n\\n\".format(day_info[\"prayer\"])\n",
    "    msg = msg + \"요약 : {}\\n\\n\".format(day_info[\"summary\"])\n",
    "    msg = msg + \"성경 버전 : {}\\n\\n\".format(bible_version[1:])\n",
    "    \n",
    "    for v in day_info[\"verses\"]:\n",
    "        msg = msg + '- {}\\n\\n'.format(kbible.extract_bystr(bible, v, form=\"md\"))\n",
    "\n",
    "    msg = msg + \"### info\\n\\n\"\n",
    "    msg = msg + \"- 성경 구절 갯수 : {}\".format(len(day_info[\"verses\"]))\n",
    "    \n",
    "    if save:\n",
    "        filename = 'mpages/day{}-{}{}.md'.format(day_info[\"day\"], day_info[\"title\"].replace(\" \", \"\"), bible_version)\n",
    "        with open(filename, \"w\") as f:\n",
    "            f.write(msg)\n",
    "        print('... save to {}'.format(filename))\n",
    "            \n",
    "    return msg"
   ]
  },
  {
   "cell_type": "code",
   "execution_count": 64,
   "metadata": {},
   "outputs": [
    {
     "name": "stdout",
     "output_type": "stream",
     "text": [
      "... save to mpages/day1-영광과흑암-현대인의성경.md\n",
      "# 1일차 - 영광과 흑암\n",
      "\n",
      "찬양 : 하나님은 우리 아버지\n",
      "\n",
      "기도 : \n",
      "\n",
      "요약 : \n",
      "\n",
      "성경 버전 : 현대인의성경\n",
      "\n",
      "- `창1:3` 하나님이 이르시되 빛이 있으라 하시니 빛이 있었고 \n",
      "\n",
      "- `창1:14` 태초에 하나님이 천지를 창조하시니라. 그 빛이 하나님이 보시기에 좋았더라 하나님이 빛과 어둠을 나누사\n",
      "\n",
      "- `창1:26,28,29` 하나님이 이르시되 우리의 형상을 따라 우리의 모양대로 우리가 사람을 만들고 그들로 바다의 물고기와 하늘의 새와 가축과 온 땅과 땅에 기는 모든 것을 다스리게 하자 하시고. 하나님이 그들에게 복을 주시며 하나님이 그들에게 이르시되 생육하고 번성하여 땅에 충만 하라, 땅을 정복하라, 바다의 물고기와 하늘의 새와 땅에 움직이는 모든 생물을 다스 리라 하시니라. 하나님이 이르시되 내가 온 지면의 씨 맺는 모든 채소와 씨 가진 열매 맺는 모든 나무를 너희에게 주노니 너희의 먹을거리가 되리라 \n",
      "\n",
      "- `창2:19` 천지와 만물이 다 이루어지니라. 여호와 하나님이 그 땅에서 보기에 아름답고 먹기에 좋은 나무가 나게 하시니 동산 가운데에는 생명 나무와 선악을 알게 하는 나무도 있더라\n",
      "\n",
      "- `창2:9` 여호와 하나님이 그 땅에서 보기에 아름답고 먹기에 좋은 나무가 나게 하시니 동산 가운데에는 생명 나무와 선악을 알게 하는 나무도 있더라\n",
      "\n",
      "- `창2:17` 천지와 만물이 다 이루어지니라. 여호와 하나님이 땅의 흙으로 사람을 지으시고 생기를 그 코에 불어넣으시니 사람이 생령이 되니라\n",
      "\n",
      "- `창3:6-7` 여자가 그 나무를 본즉 먹음직도 하고 보암직도 하고 지혜롭게 할만큼 탐스럽기도 한 나무인지라 여자가 그 열매를 따먹고 자기와 함께 있는 남편에게도 주매 그도 먹은지라. 이에 그들의 눈이 밝아져 자기들이 벗은 줄을 알고 무화과나무 잎을 엮어 치마로 삼았더라\n",
      "\n",
      "- `유1:6` 또 자기 지위를 지키지 아니하고 자기 처소를 떠난 천사들을 큰 날의 심판까지 영원한 결박으로 흑암에 가두셨으며\n",
      "\n",
      "- `벧후2:4` 하나님이 범죄한 천사들을 용서하지 아니하시고 지옥에 던져 어두운 구덩이에 두어 심판 때까지 지키게 하셨으며\n",
      "\n",
      "- `창3:17-18` 아담에게 이르시되 네가 네 아내의 말을 듣고 내가 네게 먹지 말라한 나무의 열매를 먹었은즉 땅은 너로 말미암아 저주를 받고 너는 네 평생에 수고하여야 그 소산을 먹으리라 . 땅이 네게 가시덤불과 엉겅퀴를 낼 것이라 네가 먹을 것은 밭의 채소인즉\n",
      "\n",
      "- `왕하6:17` 선지자의 제자들이 엘리사에게 이르되 보소서 우리가 당신과 함께 거주하는 이 곳이 우리에게는 좁으니. 이르되 너는 그것을 집으라 하니 그 사람이 손을 내밀어 그것을 집으니라 \n",
      "\n",
      "- `행26:18` 아그립바가 바울에게 이르되 너를 위하여 말하기를 네게 허락하노라 하니 이에 바울이 손을 들어 변명하되. 당신들은 하나님이 죽은 사람을 다시 살리심을 어찌하여 못 믿을 것으로 여기나이까\n",
      "\n",
      "- `롬1:19-20` 이는 하나님을 알 만한 것이 그들 속에 보임이라 하나님께서 이를 그들에게 보이셨느니라. 창세로부터 그의 보이지 아니하는 것들 곧 그의 영원하신 능력과 신성이 그가 만드신 만물에 분명히 보여 알려졌나니 그러므로 그들이 핑계하지 못할지니라\n",
      "\n",
      "- `요12:46` 제자 중 하나로서 예수를 잡아 줄 가룟 유다가 말하되. 이렇게 말함은 가난한 자들을 생각함이 아니요 그는 도둑이라 돈 궤를 맡고 거기 넣는 것을 훔쳐감이러라\n",
      "\n",
      "- `골1:13` 하나님의 뜻으로 말미암아 그리스도 예수의 사도 된 바울과 형제 디모데는 . 우리가 너희를 위하여 기도할 때마다 하나님 곧 우리 주 예수 그리스도의 아버지께 감사하노라 \n",
      "\n",
      "- `단2:22` 왕이 그의 꿈을 자기에게 알려 주도록 박수와 술객과 점쟁이와 갈대아 술사를 부르라 말하매 그들이 들어가서 왕의 앞에 선지라 \n",
      "\n",
      "- `요일5:19` 예수께서 그리스도이심을 믿는 자마다 하나님께로부터 난 자니 또한 낳으신 이를 사랑하는 자마다 그에게서 난 자를 사랑하느니라. 만일 우리가 사람들의 증언을 받을진대 하나님의 증거는 더욱 크도다 하나님의 증거는 이것이니 그의 아들에 대하여 증언하신 것이라\n",
      "\n",
      "### info\n",
      "\n",
      "- 성경 구절 갯수 : 17\n"
     ]
    }
   ],
   "source": [
    "print(make_mdpage(\"현대인의성경\", \"day1.yaml\", save=True))"
   ]
  },
  {
   "cell_type": "code",
   "execution_count": 38,
   "metadata": {},
   "outputs": [],
   "source": [
    "#kbible.find_id(bible, book=\"롬\", chapter=1)"
   ]
  },
  {
   "cell_type": "markdown",
   "metadata": {},
   "source": [
    "## daily info file"
   ]
  },
  {
   "cell_type": "code",
   "execution_count": 39,
   "metadata": {},
   "outputs": [],
   "source": [
    "import yaml"
   ]
  },
  {
   "cell_type": "code",
   "execution_count": 47,
   "metadata": {},
   "outputs": [
    {
     "name": "stdout",
     "output_type": "stream",
     "text": [
      "day: '1'\n",
      "prayer: ''\n",
      "song: 하나님은 우리 아버지\n",
      "summary: ''\n",
      "title: 영광과 흑암\n",
      "verses:\n",
      "- 창1:3\n",
      "- 창1:14\n",
      "- 창1:26,28,29\n",
      "- 창2:19\n",
      "- 창2:9\n",
      "- 창2:17\n",
      "- 창3:6-7\n",
      "- 유1:6\n",
      "- 벧후2:4\n",
      "- 창3:17-18\n",
      "- 왕하6:17\n",
      "- 행26:18\n",
      "- 롬1:19-20\n",
      "- 요12:46\n",
      "- 골1:13\n",
      "- 단2:22\n",
      "- 요일5:19\n",
      "\n"
     ]
    }
   ],
   "source": [
    "print(yaml.dump(day_info, allow_unicode=True))"
   ]
  },
  {
   "cell_type": "code",
   "execution_count": 48,
   "metadata": {},
   "outputs": [],
   "source": [
    "with open('day1.yaml', \"w\") as f:\n",
    "    yaml.dump(day_info, f, allow_unicode=True)"
   ]
  },
  {
   "cell_type": "code",
   "execution_count": 50,
   "metadata": {},
   "outputs": [],
   "source": [
    "yaml.load?"
   ]
  },
  {
   "cell_type": "code",
   "execution_count": null,
   "metadata": {},
   "outputs": [],
   "source": []
  }
 ],
 "metadata": {
  "kernelspec": {
   "display_name": "Python 3 (default)",
   "language": "python",
   "name": "python3"
  },
  "language_info": {
   "codemirror_mode": {
    "name": "ipython",
    "version": 3
   },
   "file_extension": ".py",
   "mimetype": "text/x-python",
   "name": "python",
   "nbconvert_exporter": "python",
   "pygments_lexer": "ipython3",
   "version": "3.7.2"
  }
 },
 "nbformat": 4,
 "nbformat_minor": 2
}
