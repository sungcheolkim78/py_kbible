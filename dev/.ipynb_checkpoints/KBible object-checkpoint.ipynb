{
 "cells": [
  {
   "cell_type": "code",
   "execution_count": 1,
   "metadata": {},
   "outputs": [],
   "source": [
    "from py_kbible import kbible"
   ]
  },
  {
   "cell_type": "code",
   "execution_count": 2,
   "metadata": {},
   "outputs": [],
   "source": [
    "b = kbible.KBible()"
   ]
  },
  {
   "cell_type": "code",
   "execution_count": 3,
   "metadata": {},
   "outputs": [
    {
     "data": {
      "text/plain": [
       "{'개역한글판성경': 0}"
      ]
     },
     "execution_count": 3,
     "metadata": {},
     "output_type": "execute_result"
    }
   ],
   "source": [
    "b._versionlist"
   ]
  },
  {
   "cell_type": "code",
   "execution_count": 12,
   "metadata": {},
   "outputs": [
    {
     "data": {
      "text/plain": [
       "{'개역한글판성경': 0, 'ASV': 1}"
      ]
     },
     "execution_count": 12,
     "metadata": {},
     "output_type": "execute_result"
    }
   ],
   "source": [
    "b.add(\"ASV\")\n",
    "b._versionlist"
   ]
  },
  {
   "cell_type": "code",
   "execution_count": 5,
   "metadata": {},
   "outputs": [
    {
     "data": {
      "text/plain": [
       "{'개역한글판성경': 0}"
      ]
     },
     "execution_count": 5,
     "metadata": {},
     "output_type": "execute_result"
    }
   ],
   "source": [
    "#b.delete(\"ASV\")\n",
    "b._versionlist"
   ]
  },
  {
   "cell_type": "code",
   "execution_count": 6,
   "metadata": {},
   "outputs": [],
   "source": [
    "#b.save()"
   ]
  },
  {
   "cell_type": "code",
   "execution_count": 7,
   "metadata": {},
   "outputs": [],
   "source": [
    "bp = b.get()"
   ]
  },
  {
   "cell_type": "code",
   "execution_count": 13,
   "metadata": {},
   "outputs": [
    {
     "name": "stdout",
     "output_type": "stream",
     "text": [
      "`창1:1` 태초에 하나님이 천지를 창조하시니라\n",
      "`창1:2` 땅이 혼돈하고 공허하며 흑암이 깊음 위에 있고 하나님의 신은 수면에 운행하시니라\n",
      "`창1:3` 하나님이 가라사대 빛이 있으라 하시매 빛이 있었고\n",
      "`창1:4` 그 빛이 하나님의 보시기에 좋았더라 하나님이 빛과 어두움을 나누사\n",
      "`창1:5` 빛을 낮이라 칭하시고 어두움을 밤이라 칭하시니라 저녁이 되며 아침이 되니 이는 첫째 날이니라\n",
      "`창1:6` 하나님이 가라사대 물 가운데 궁창이 있어 물과 물로 나뉘게 하리라 하시고\n",
      "`창1:7` 하나님이 궁창을 만드사 궁창 아래의 물과 궁창 위의 물로 나뉘게 하시매 그대로 되니라\n",
      "`창1:8` 하나님이 궁창을 하늘이라 칭하시니라 저녁이 되며 아침이 되니 이는 둘째 날이니라\n",
      "`창1:9` 하나님이 가라사대 천하의 물이 한 곳으로 모이고 뭍이 드러나라 하시매 그대로 되니라\n",
      "`창1:10` 하나님이 뭍을 땅이라 칭하시고 모인 물을 바다라 칭하시니라 하나님의 보시기에 좋았더라\n",
      "`창1:11` 하나님이 가라사대 땅은 풀과 씨 맺는 채소와 각기 종류대로 씨 가진 열매 맺는 과목을 내라 하시매 그대로 되어\n",
      "`창1:12` 땅이 풀과 각기 종류대로 씨 맺는 채소와 각기 종류대로 씨 가진 열매 맺는 나무를 내니 하나님의 보시기에 좋았더라\n",
      "`창1:13` 저녁이 되며 아침이 되니 이는 셋째 날이니라\n",
      "`창1:14` 하나님이 가라사대 하늘의 궁창에 광명이 있어 주야를 나뉘게 하라 또 그 광명으로 하여 징조와 사시와 일자와 연한이 이루라\n",
      "`창1:15` 또 그 광명이 하늘의 궁창에 있어 땅에 비취라 하시고 (그대로 되니라)\n",
      "`창1:16` 하나님이 두 큰 광명을 만드사 큰 광명으로 낮을 주관하게 하시고 작은 광명으로 밤을 주관하게 하시며 또 별들을 만드시고\n",
      "`창1:17` 하나님이 그것들을 하늘의 궁창에 두어 땅에 비취게 하시며\n",
      "`창1:18` 주야를 주관하게 하시며 빛과 어두움을 나뉘게 하시니라 하나님의 보시기에 좋았더라\n",
      "`창1:19` 저녁이 되며 아침이 되니 이는 넷째 날이니라\n",
      "`창1:20` 하나님이 가라사대 물들은 생물로 번성케 하라 땅 위 하늘의 궁창에는 새가 날으라 하시고\n",
      "`창1:21` 하나님이 큰 물고기와 물에서 번성하여 움직이는 모든 생물을 그 종류대로, 날개 있는 모든 새를 그 종류대로 창조하시니 하나님의 보시기에 좋았더라\n",
      "`창1:22` 하나님이 그들에게 복을 주어 가라사대 생육하고 번성하여 여러 바다 물에 충만하라 새들도 땅에 번성하라 하시니라\n",
      "`창1:23` 저녁이 되며 아침이 되니 이는 다섯째 날이니라\n",
      "`창1:24` 하나님이 가라사대 땅은 생물을 그 종류대로 내되 육축과 기는 것과 땅의 짐승을 종류대로 내라 하시고 (그대로 되니라)\n",
      "`창1:25` 하나님이 땅의 짐승을 그 종류대로, 육축을 그 종류대로, 땅에 기는 모든 것을 그 종류대로 만드시니 하나님의 보시기에 좋았더라\n",
      "`창1:26` 하나님이 가라사대 우리의 형상을 따라 우리의 모양대로 우리가 사람을 만들고 그로 바다의 고기와 공중의 새와 육축과 온 땅과 땅에 기는 모든 것을 다스리게 하자 하시고\n",
      "`창1:27` 하나님이 자기 형상 곧 하나님의 형상대로 사람을 창조하시되 남자와 여자를 창조하시고\n",
      "`창1:28` 하나님이 그들에게 복을 주시며 그들에게 이르시되 생육하고 번성하여 땅에 충만하라, 땅을 정복하라, 바다의 고기와 공중의 새와 땅에 움직이는 모든 생물을 다스리라 하시니라\n",
      "`창1:29` 하나님이 가라사대 내가 온 지면의 씨 맺는 모든 채소와 씨 가진 열매 맺는 모든 나무를 너희에게 주노니 너희 식물이 되리라\n",
      "`창1:30` 또 땅의 모든 짐승과 공중의 모든 새와 생명이 있어 땅에 기는 모든 것에게는 내가 모든 푸른 풀을 식물로 주노라 하시니 그대로 되니라\n",
      "`창1:31` 하나님이 그 지으신 모든 것을 보시니 보시기에 심히 좋았더라 저녁이 되며 아침이 되니 이는 여섯째 날이니라\n",
      "`Gen1:1` In the beginning God created the heavens and the earth.\n",
      "`Gen1:2` And the earth was waste and void; and darkness was upon the face of the deep: and the Spirit of God [^Gen1:2a] moved upon the face of the waters.\n",
      "`Gen1:3` And God said, Let there be light: and there was light.\n",
      "`Gen1:4` And God saw the light, that it was good: and God divided the light from the darkness.\n",
      "`Gen1:5` And God called the light Day, and the darkness he called Night. And there was evening and there was morning, one day.\n",
      "`Gen1:6` And God said, Let there be a [^Gen1:6a] firmament in the midst of the waters, and let it divide the waters from the waters.\n",
      "`Gen1:7` And God made the firmament, and divided the waters which were under the firmament from the waters which were above the firmament: and it was so.\n",
      "`Gen1:8` And God called the firmament Heaven. And there was evening and there was morning, a second day.\n",
      "`Gen1:9` And God said, Let the waters under the heavens be gathered together unto one place, and let the dry land appear: and it was so.\n",
      "`Gen1:10` And God called the dry land Earth; and the gathering together of the waters called he Seas: and God saw that it was good.\n",
      "`Gen1:11` And God said, Let the earth put forth grass, herbs yielding seed, and fruit-trees bearing fruit after their kind, wherein is the seed thereof, upon the earth: and it was so.\n",
      "`Gen1:12` And the earth brought forth grass, herbs yielding seed after their kind, and trees bearing fruit, wherein is the seed thereof, after their kind: and God saw that it was good.\n",
      "`Gen1:13` And there was evening and there was morning, a third day.\n",
      "`Gen1:14` And God said, Let there be lights in the firmament of heaven to divide the day from the night; and let them be for signs, and for seasons, and for days and years:\n",
      "`Gen1:15` and let them be for lights in the firmament of heaven to give light upon the earth: and it was so.\n",
      "`Gen1:16` And God made the two great lights; the greater light to rule the day, and the lesser light to rule the night: he made the stars also.\n",
      "`Gen1:17` And God set them in the firmament of heaven to give light upon the earth,\n",
      "`Gen1:18` and to rule over the day and over the night, and to divide the light from the darkness: and God saw that it was good.\n",
      "`Gen1:19` And there was evening and there was morning, a fourth day.\n",
      "`Gen1:20` And God said, Let the waters swarm with swarms of living creatures, and let birds fly above the earth [^Gen1:20a] in the open firmament of heaven.\n",
      "`Gen1:21` And God created the great sea-monsters, and every living creature that moveth, wherewith the waters swarmed, after their kind, and every winged bird after its kind: and God saw that it was good.\n",
      "`Gen1:22` And God blessed them, saying, Be fruitful, and multiply, and fill the waters in the seas, and let birds multiply on the earth.\n",
      "`Gen1:23` And there was evening and there was morning, a fifth day.\n",
      "`Gen1:24` And God said, Let the earth bring forth living creatures after their kind, cattle, and creeping things, and beasts of the earth after their kind: and it was so.\n",
      "`Gen1:25` And God made the beasts of the earth after their kind, and the cattle after their kind, and everything that creepeth upon the ground after its kind: and God saw that it was good.\n",
      "`Gen1:26` And God said, Let us make man in our image, after our likeness: and let them have dominion over the fish of the sea, and over the birds of the heavens, and over the cattle, and over all the earth, and over every creeping thing that creepeth upon the earth.\n",
      "`Gen1:27` And God created man in his own image, in the image of God created he him; male and female created he them.\n",
      "`Gen1:28` And God blessed them: and God said unto them, Be fruitful, and multiply, and replenish the earth, and subdue it; and have dominion over the fish of the sea, and over the birds of the heavens, and over every living thing that [^Gen1:28a] moveth upon the earth.\n",
      "`Gen1:29` And God said, Behold, I have given you every herb yielding seed, which is upon the face of all the earth, and every tree, in which is the fruit of a tree yielding seed; to you it shall be for food:\n",
      "`Gen1:30` and to every beast of the earth, and to every bird of the heavens, and to everything that creepeth upon the earth, wherein there is [^Gen1:30a] life, I have given every green herb for food: and it was so.\n",
      "`Gen1:31` And God saw everything that he had made, and, behold, it was very good. And there was evening and there was morning, the sixth day.\n",
      "[^Gen1:2a]: Genesis 1:2 Or, was brooding upon \n",
      "[^Gen1:6a]: Genesis 1:6 Hebrew expanse. \n",
      "[^Gen1:20a]: Genesis 1:20 Hebrew on the face of the expanse of the heavens. \n",
      "[^Gen1:28a]: Genesis 1:28 Or, creepeth \n",
      "[^Gen1:30a]: Genesis 1:30 Hebrew a living soul. \n",
      "\n",
      "\n"
     ]
    }
   ],
   "source": [
    "print(b.bystr('창1', form='mdlines'))"
   ]
  },
  {
   "cell_type": "code",
   "execution_count": 11,
   "metadata": {},
   "outputs": [
    {
     "name": "stdout",
     "output_type": "stream",
     "text": [
      "`창1:1` 태초에 하나님이 천지를 창조하시니라\n",
      "`왕하19:25` 네가 듣지 못하였느냐 이 일은 내가 태초부터 행하였고 상고부터 정한 바라 이제 내가 이루어 너로 견고한 성들을 멸하여 돌무더기가 되게 함이니라\n",
      "`잠8:22` 여호와께서 그 조화의 시작 곧 태초에 일하시기 전에 나를 가지셨으며\n",
      "`사37:26` 네가 어찌 듣지 못하였겠느냐 이 일들은 내가 태초부터 행한 바요 상고부터 정한 바로서 이제 내가 이루어 너로 견고한 성을 헐어 돌무더기가 되게 하였노라\n",
      "`사40:21` 너희가 알지 못하였느냐 너희가 듣지 못하였느냐 태초부터 너희에게 전하지 아니하였느냐 땅의 기초가 창조될 때부터 너희가 깨닫지 못하였느냐\n",
      "`사41:4` 이 일을 누가 행하였느냐 누가 이루었느냐 누가 태초부터 만대를 명정하였느냐 나 여호와라 태초에도 나요 나중 있을 자에게도 내가 곧 그니라\n",
      "`사43:13` 과연 태초로부터 나는 그니 내 손에서 능히 건질 자가 없도다 내가 행하리니 누가 막으리요\n",
      "`미5:2` 베들레헴 에브라다야 너는 유다 족속 중에 작을지라도 이스라엘을 다스릴 자가 네게서 내게로 나올 것이라 그의 근본은 상고에, 태초에니라\n",
      "`요1:1` 태초에 말씀이 계시니라 이 말씀이 하나님과 함께 계셨으니 이 말씀은 곧 하나님이시니라\n",
      "`요1:2` 그가 태초에 하나님과 함께 계셨고\n",
      "`히1:10` 또 주여 태초에 주께서 땅의 기초를 두셨으며 하늘도 주의 손으로 지으신 바라\n",
      "`요일1:1` 태초부터 있는 생명의 말씀에 관하여는 우리가 들은 바요 눈으로 본 바요 주목하고 우리 손으로 만진 바라\n",
      "`요일2:13` 아비들아 내가 너희에게 쓰는 것은 너희가 태초부터 계신 이를 앎이요 청년들아 내가 너희에게 쓰는 것은 너희가 악한 자를 이기었음이니라\n",
      "`요일2:14` 아이들아 내가 너희에게 쓴 것은 너희가 아버지를 알았음이요 아비들아 내가 너희에게 쓴 것은 너희가 태초부터 계신 이를 알았음이요 청년들아 내가 너희에게 쓴 것은 너희가 강하고 하나님의 말씀이 너희 속에 거하시고 너희가 흉악한 자를 이기었음이라\n"
     ]
    }
   ],
   "source": [
    "print(b.search(\"태초\", form=\"md\"))"
   ]
  },
  {
   "cell_type": "code",
   "execution_count": null,
   "metadata": {},
   "outputs": [],
   "source": []
  }
 ],
 "metadata": {
  "kernelspec": {
   "display_name": "Python 3 (default)",
   "language": "python",
   "name": "python3"
  },
  "language_info": {
   "codemirror_mode": {
    "name": "ipython",
    "version": 3
   },
   "file_extension": ".py",
   "mimetype": "text/x-python",
   "name": "python",
   "nbconvert_exporter": "python",
   "pygments_lexer": "ipython3",
   "version": "3.7.3"
  }
 },
 "nbformat": 4,
 "nbformat_minor": 2
}
