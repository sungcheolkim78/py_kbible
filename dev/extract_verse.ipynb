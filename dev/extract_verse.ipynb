{
 "cells": [
  {
   "cell_type": "code",
   "execution_count": 1,
   "metadata": {},
   "outputs": [],
   "source": [
    "import kbible\n",
    "import pandas as pd"
   ]
  },
  {
   "cell_type": "code",
   "execution_count": 2,
   "metadata": {},
   "outputs": [],
   "source": [
    "b = kbible.read_full_bible(\"개역개정판성경\")"
   ]
  },
  {
   "cell_type": "markdown",
   "metadata": {},
   "source": [
    "## find verse id or matched verse"
   ]
  },
  {
   "cell_type": "code",
   "execution_count": 4,
   "metadata": {},
   "outputs": [],
   "source": [
    "def find_id(bible, book=[], chapter=[], verse=[]):\n",
    "    \"\"\" find index on full bible database \"\"\"\n",
    "\n",
    "    # check books\n",
    "    books = set(bible['book'])\n",
    "    books_long = set(bible['book_long'])\n",
    "    \n",
    "    if len(book) == 0:\n",
    "        book = books[0]\n",
    "    if isinstance(book, str):\n",
    "        book = [book]\n",
    "        \n",
    "    print('... search book:{}'.format(book))\n",
    "    result = bible.loc[bible.book.isin(book) | bible.book_long.isin(book)]\n",
    "        \n",
    "    # check chapter\n",
    "    if isinstance(chapter, int):\n",
    "        chapter = [chapter]\n",
    "    if len(chapter) == 0:\n",
    "        return result\n",
    "    \n",
    "    print('... search chapter: {}'.format(chapter))\n",
    "    result = result.loc[bible.chapter.isin(chapter)]\n",
    "        \n",
    "    # check verse\n",
    "    if isinstance(verse, int):\n",
    "        verse = [verse]\n",
    "    if len(verse) == 0:\n",
    "        return result\n",
    "    \n",
    "    print('... search verse: {}'.format(verse))\n",
    "    result = result.loc[bible.verse.isin(verse)]\n",
    "        \n",
    "    if len(result) > 0:\n",
    "        return result\n",
    "    else:\n",
    "        print(\"... not found: {}, {}, {}\".format(book, chapter, verse))"
   ]
  },
  {
   "cell_type": "code",
   "execution_count": 5,
   "metadata": {},
   "outputs": [
    {
     "name": "stdout",
     "output_type": "stream",
     "text": [
      "... search book:['창', '출']\n",
      "... search chapter: [1, 2]\n",
      "... search verse: [1]\n"
     ]
    },
    {
     "data": {
      "text/html": [
       "<div>\n",
       "<style scoped>\n",
       "    .dataframe tbody tr th:only-of-type {\n",
       "        vertical-align: middle;\n",
       "    }\n",
       "\n",
       "    .dataframe tbody tr th {\n",
       "        vertical-align: top;\n",
       "    }\n",
       "\n",
       "    .dataframe thead th {\n",
       "        text-align: right;\n",
       "    }\n",
       "</style>\n",
       "<table border=\"1\" class=\"dataframe\">\n",
       "  <thead>\n",
       "    <tr style=\"text-align: right;\">\n",
       "      <th></th>\n",
       "      <th>book</th>\n",
       "      <th>chapter</th>\n",
       "      <th>verse</th>\n",
       "      <th>text</th>\n",
       "      <th>order</th>\n",
       "      <th>book_long</th>\n",
       "      <th>eng</th>\n",
       "      <th>on</th>\n",
       "    </tr>\n",
       "  </thead>\n",
       "  <tbody>\n",
       "    <tr>\n",
       "      <th>0</th>\n",
       "      <td>창</td>\n",
       "      <td>1</td>\n",
       "      <td>1</td>\n",
       "      <td>태초에 하나님이 천지를 창조하시니라</td>\n",
       "      <td>1</td>\n",
       "      <td>창세기</td>\n",
       "      <td>Genesis</td>\n",
       "      <td>구약</td>\n",
       "    </tr>\n",
       "    <tr>\n",
       "      <th>31</th>\n",
       "      <td>창</td>\n",
       "      <td>2</td>\n",
       "      <td>1</td>\n",
       "      <td>천지와 만물이 다 이루어지니라</td>\n",
       "      <td>1</td>\n",
       "      <td>창세기</td>\n",
       "      <td>Genesis</td>\n",
       "      <td>구약</td>\n",
       "    </tr>\n",
       "    <tr>\n",
       "      <th>1533</th>\n",
       "      <td>출</td>\n",
       "      <td>1</td>\n",
       "      <td>1</td>\n",
       "      <td>야곱과 함께 각각 자기 가족을 데리고 애굽에 이른 이스라엘 아들들의 이름은 이러하니</td>\n",
       "      <td>2</td>\n",
       "      <td>출애굽기</td>\n",
       "      <td>Exodus</td>\n",
       "      <td>구약</td>\n",
       "    </tr>\n",
       "    <tr>\n",
       "      <th>1555</th>\n",
       "      <td>출</td>\n",
       "      <td>2</td>\n",
       "      <td>1</td>\n",
       "      <td>레위 가족 중 한 사람이 가서 레위 여자에게 장가 들어</td>\n",
       "      <td>2</td>\n",
       "      <td>출애굽기</td>\n",
       "      <td>Exodus</td>\n",
       "      <td>구약</td>\n",
       "    </tr>\n",
       "  </tbody>\n",
       "</table>\n",
       "</div>"
      ],
      "text/plain": [
       "     book  chapter  verse                                             text  \\\n",
       "0       창        1      1                              태초에 하나님이 천지를 창조하시니라   \n",
       "31      창        2      1                                 천지와 만물이 다 이루어지니라   \n",
       "1533    출        1      1  야곱과 함께 각각 자기 가족을 데리고 애굽에 이른 이스라엘 아들들의 이름은 이러하니    \n",
       "1555    출        2      1                  레위 가족 중 한 사람이 가서 레위 여자에게 장가 들어    \n",
       "\n",
       "      order book_long      eng  on  \n",
       "0         1       창세기  Genesis  구약  \n",
       "31        1       창세기  Genesis  구약  \n",
       "1533      2      출애굽기   Exodus  구약  \n",
       "1555      2      출애굽기   Exodus  구약  "
      ]
     },
     "execution_count": 5,
     "metadata": {},
     "output_type": "execute_result"
    }
   ],
   "source": [
    "find_id(b, book=[\"창\",\"출\"], chapter=[1,2], verse=[1])"
   ]
  },
  {
   "cell_type": "code",
   "execution_count": 13,
   "metadata": {},
   "outputs": [
    {
     "data": {
      "text/html": [
       "<div>\n",
       "<style scoped>\n",
       "    .dataframe tbody tr th:only-of-type {\n",
       "        vertical-align: middle;\n",
       "    }\n",
       "\n",
       "    .dataframe tbody tr th {\n",
       "        vertical-align: top;\n",
       "    }\n",
       "\n",
       "    .dataframe thead th {\n",
       "        text-align: right;\n",
       "    }\n",
       "</style>\n",
       "<table border=\"1\" class=\"dataframe\">\n",
       "  <thead>\n",
       "    <tr style=\"text-align: right;\">\n",
       "      <th></th>\n",
       "      <th>book</th>\n",
       "      <th>chapter</th>\n",
       "      <th>verse</th>\n",
       "      <th>text</th>\n",
       "      <th>order</th>\n",
       "      <th>book_long</th>\n",
       "      <th>eng</th>\n",
       "      <th>on</th>\n",
       "    </tr>\n",
       "  </thead>\n",
       "  <tbody>\n",
       "    <tr>\n",
       "      <th>0</th>\n",
       "      <td>창</td>\n",
       "      <td>1</td>\n",
       "      <td>1</td>\n",
       "      <td>태초에 하나님이 천지를 창조하시니라</td>\n",
       "      <td>1</td>\n",
       "      <td>창세기</td>\n",
       "      <td>Genesis</td>\n",
       "      <td>구약</td>\n",
       "    </tr>\n",
       "    <tr>\n",
       "      <th>31</th>\n",
       "      <td>창</td>\n",
       "      <td>2</td>\n",
       "      <td>1</td>\n",
       "      <td>천지와 만물이 다 이루어지니라</td>\n",
       "      <td>1</td>\n",
       "      <td>창세기</td>\n",
       "      <td>Genesis</td>\n",
       "      <td>구약</td>\n",
       "    </tr>\n",
       "    <tr>\n",
       "      <th>1533</th>\n",
       "      <td>출</td>\n",
       "      <td>1</td>\n",
       "      <td>1</td>\n",
       "      <td>야곱과 함께 각각 자기 가족을 데리고 애굽에 이른 이스라엘 아들들의 이름은 이러하니</td>\n",
       "      <td>2</td>\n",
       "      <td>출애굽기</td>\n",
       "      <td>Exodus</td>\n",
       "      <td>구약</td>\n",
       "    </tr>\n",
       "    <tr>\n",
       "      <th>1555</th>\n",
       "      <td>출</td>\n",
       "      <td>2</td>\n",
       "      <td>1</td>\n",
       "      <td>레위 가족 중 한 사람이 가서 레위 여자에게 장가 들어</td>\n",
       "      <td>2</td>\n",
       "      <td>출애굽기</td>\n",
       "      <td>Exodus</td>\n",
       "      <td>구약</td>\n",
       "    </tr>\n",
       "  </tbody>\n",
       "</table>\n",
       "</div>"
      ],
      "text/plain": [
       "     book  chapter  verse                                             text  \\\n",
       "0       창        1      1                              태초에 하나님이 천지를 창조하시니라   \n",
       "31      창        2      1                                 천지와 만물이 다 이루어지니라   \n",
       "1533    출        1      1  야곱과 함께 각각 자기 가족을 데리고 애굽에 이른 이스라엘 아들들의 이름은 이러하니    \n",
       "1555    출        2      1                  레위 가족 중 한 사람이 가서 레위 여자에게 장가 들어    \n",
       "\n",
       "      order book_long      eng  on  \n",
       "0         1       창세기  Genesis  구약  \n",
       "31        1       창세기  Genesis  구약  \n",
       "1533      2      출애굽기   Exodus  구약  \n",
       "1555      2      출애굽기   Exodus  구약  "
      ]
     },
     "execution_count": 13,
     "metadata": {},
     "output_type": "execute_result"
    }
   ],
   "source": [
    "b.loc[[0, 31, 1533, 1555]]"
   ]
  },
  {
   "cell_type": "markdown",
   "metadata": {},
   "source": [
    "## extract verse by short search string"
   ]
  },
  {
   "cell_type": "code",
   "execution_count": 15,
   "metadata": {},
   "outputs": [
    {
     "data": {
      "text/plain": [
       "{'갈',\n",
       " '겔',\n",
       " '계',\n",
       " '고전',\n",
       " '고후',\n",
       " '골',\n",
       " '나',\n",
       " '눅',\n",
       " '느',\n",
       " '단',\n",
       " '대상',\n",
       " '대하',\n",
       " '딛',\n",
       " '딤전',\n",
       " '딤후',\n",
       " '레',\n",
       " '렘',\n",
       " '롬',\n",
       " '룻',\n",
       " '마',\n",
       " '막',\n",
       " '말',\n",
       " '몬',\n",
       " '미',\n",
       " '민',\n",
       " '벧전',\n",
       " '벧후',\n",
       " '빌',\n",
       " '사',\n",
       " '살전',\n",
       " '살후',\n",
       " '삼상',\n",
       " '삼하',\n",
       " '삿',\n",
       " '수',\n",
       " '스',\n",
       " '슥',\n",
       " '습',\n",
       " '시',\n",
       " '신',\n",
       " '아',\n",
       " '암',\n",
       " '애',\n",
       " '약',\n",
       " '에',\n",
       " '엡',\n",
       " '옵',\n",
       " '왕상',\n",
       " '왕하',\n",
       " '요',\n",
       " '요삼',\n",
       " '요이',\n",
       " '요일',\n",
       " '욘',\n",
       " '욜',\n",
       " '욥',\n",
       " '유',\n",
       " '잠',\n",
       " '전',\n",
       " '창',\n",
       " '출',\n",
       " '학',\n",
       " '합',\n",
       " '행',\n",
       " '호',\n",
       " '히'}"
      ]
     },
     "execution_count": 15,
     "metadata": {},
     "output_type": "execute_result"
    }
   ],
   "source": [
    "set(b.book)"
   ]
  },
  {
   "cell_type": "code",
   "execution_count": 57,
   "metadata": {},
   "outputs": [],
   "source": [
    "def extract_bystr(bible, sstr, form=\"pd\"):\n",
    "    \"\"\" extract verse by short search string \n",
    "    sstr: \"창3:16\", \"고후5:3\", '요일1:1'\n",
    "    - no space\n",
    "    - one separator\n",
    "    \"\"\"\n",
    "    \n",
    "    # remove all spaces\n",
    "    sstr = sstr.replace(\" \", \"\")\n",
    "    \n",
    "    # find components\n",
    "    verses = sstr.split(':')[1]\n",
    "    head = sstr.split(':')[0]\n",
    "    \n",
    "    book = ''.join(filter(str.isalpha, head))\n",
    "    chapter = ''.join(filter(str.isdigit, head))\n",
    "    chapter = int(chapter)\n",
    "    \n",
    "    # check , in verse\n",
    "    if verses.find(',') > 0:\n",
    "        verses = verses.split(',')\n",
    "    # check - in verse\n",
    "    elif verses.find('-') > 0:\n",
    "        start = verses.split('-')[0]\n",
    "        end = verses.split('-')[1]\n",
    "        try:\n",
    "            verses = list(range(int(start), int(end)+1))\n",
    "        except:\n",
    "            print('... wrong format: {}'.format(sstr))\n",
    "            return 0\n",
    "    verses = [int(v) for v in verses]\n",
    "    \n",
    "    #print(book, chapter, verses)\n",
    "\n",
    "    # return verses\n",
    "    res = find_id(bible, book=book, chapter=chapter, verse=verses)\n",
    "    if len(res) == 0:\n",
    "        print('... no result!')\n",
    "        return []\n",
    "    \n",
    "    if form == \"pd\":\n",
    "        return res\n",
    "    if form == \"string\":\n",
    "        return '. '.join(res['text'].values)\n",
    "    if form == \"md\":\n",
    "        msg = \"`{}` \".format(sstr)\n",
    "        return msg + '. '.join(res['text'].values)\n",
    "        "
   ]
  },
  {
   "cell_type": "code",
   "execution_count": 55,
   "metadata": {},
   "outputs": [
    {
     "name": "stdout",
     "output_type": "stream",
     "text": [
      "... search book:['고후']\n",
      "... search chapter: [5]\n",
      "... search verse: [3, 4, 5]\n"
     ]
    },
    {
     "data": {
      "text/html": [
       "<div>\n",
       "<style scoped>\n",
       "    .dataframe tbody tr th:only-of-type {\n",
       "        vertical-align: middle;\n",
       "    }\n",
       "\n",
       "    .dataframe tbody tr th {\n",
       "        vertical-align: top;\n",
       "    }\n",
       "\n",
       "    .dataframe thead th {\n",
       "        text-align: right;\n",
       "    }\n",
       "</style>\n",
       "<table border=\"1\" class=\"dataframe\">\n",
       "  <thead>\n",
       "    <tr style=\"text-align: right;\">\n",
       "      <th></th>\n",
       "      <th>book</th>\n",
       "      <th>chapter</th>\n",
       "      <th>verse</th>\n",
       "      <th>text</th>\n",
       "      <th>order</th>\n",
       "      <th>book_long</th>\n",
       "      <th>eng</th>\n",
       "      <th>on</th>\n",
       "    </tr>\n",
       "  </thead>\n",
       "  <tbody>\n",
       "    <tr>\n",
       "      <th>28873</th>\n",
       "      <td>고후</td>\n",
       "      <td>5</td>\n",
       "      <td>3</td>\n",
       "      <td>이렇게 입음은 우리가 벗은 자들로 발견되지 않으려 함이라</td>\n",
       "      <td>8</td>\n",
       "      <td>고린도후서</td>\n",
       "      <td>2_Corinthians</td>\n",
       "      <td>신약</td>\n",
       "    </tr>\n",
       "    <tr>\n",
       "      <th>28874</th>\n",
       "      <td>고후</td>\n",
       "      <td>5</td>\n",
       "      <td>4</td>\n",
       "      <td>참으로 이 장막에 있는 우리가 짐 진 것 같이 탄식하는 것은 벗고자 함이 아니요 오...</td>\n",
       "      <td>8</td>\n",
       "      <td>고린도후서</td>\n",
       "      <td>2_Corinthians</td>\n",
       "      <td>신약</td>\n",
       "    </tr>\n",
       "    <tr>\n",
       "      <th>28875</th>\n",
       "      <td>고후</td>\n",
       "      <td>5</td>\n",
       "      <td>5</td>\n",
       "      <td>곧 이것을 우리에게 이루게 하시고 보증으로 성령을 우리에게 주신 이는 하나님이시니라</td>\n",
       "      <td>8</td>\n",
       "      <td>고린도후서</td>\n",
       "      <td>2_Corinthians</td>\n",
       "      <td>신약</td>\n",
       "    </tr>\n",
       "  </tbody>\n",
       "</table>\n",
       "</div>"
      ],
      "text/plain": [
       "      book  chapter  verse                                               text  \\\n",
       "28873   고후        5      3                    이렇게 입음은 우리가 벗은 자들로 발견되지 않으려 함이라   \n",
       "28874   고후        5      4  참으로 이 장막에 있는 우리가 짐 진 것 같이 탄식하는 것은 벗고자 함이 아니요 오...   \n",
       "28875   고후        5      5     곧 이것을 우리에게 이루게 하시고 보증으로 성령을 우리에게 주신 이는 하나님이시니라   \n",
       "\n",
       "       order book_long            eng  on  \n",
       "28873      8     고린도후서  2_Corinthians  신약  \n",
       "28874      8     고린도후서  2_Corinthians  신약  \n",
       "28875      8     고린도후서  2_Corinthians  신약  "
      ]
     },
     "execution_count": 55,
     "metadata": {},
     "output_type": "execute_result"
    }
   ],
   "source": [
    "extract_bystr(b, \"고후5:3,4,5\")"
   ]
  },
  {
   "cell_type": "code",
   "execution_count": 49,
   "metadata": {},
   "outputs": [
    {
     "name": "stdout",
     "output_type": "stream",
     "text": [
      "... search book:['고후']\n",
      "... search chapter: [5]\n",
      "... search verse: [3, 4, 5]\n",
      "이렇게 입음은 우리가 벗은 자들로 발견되지 않으려 함이라. 참으로 이 장막에 있는 우리가 짐 진 것 같이 탄식하는 것은 벗고자 함이 아니요 오히려 덧입고자 함이니 죽을 것이 생명에 삼킨 바 되게 하려 함이라. 곧 이것을 우리에게 이루게 하시고 보증으로 성령을 우리에게 주신 이는 하나님이시니라\n"
     ]
    }
   ],
   "source": [
    "print(extract_bystr(b, \"고후5:3-5\", form=\"string\"))"
   ]
  },
  {
   "cell_type": "code",
   "execution_count": 51,
   "metadata": {},
   "outputs": [
    {
     "name": "stdout",
     "output_type": "stream",
     "text": [
      "... search book:['고후']\n",
      "... search chapter: [5]\n",
      "... search verse: [3, 4, 5]\n",
      "`고후5:3-5` 이렇게 입음은 우리가 벗은 자들로 발견되지 않으려 함이라. 참으로 이 장막에 있는 우리가 짐 진 것 같이 탄식하는 것은 벗고자 함이 아니요 오히려 덧입고자 함이니 죽을 것이 생명에 삼킨 바 되게 하려 함이라. 곧 이것을 우리에게 이루게 하시고 보증으로 성령을 우리에게 주신 이는 하나님이시니라\n"
     ]
    }
   ],
   "source": [
    "print(extract_bystr(b, \"고후5:3-5\", form=\"md\"))"
   ]
  },
  {
   "cell_type": "code",
   "execution_count": 56,
   "metadata": {},
   "outputs": [
    {
     "name": "stdout",
     "output_type": "stream",
     "text": [
      "... search book:['고후']\n",
      "... search chapter: [5]\n",
      "... search verse: [3]\n",
      "`고후5:3` 이렇게 입음은 우리가 벗은 자들로 발견되지 않으려 함이라\n"
     ]
    }
   ],
   "source": [
    "print(extract_bystr(b, \"고후5:3\", form=\"md\"))"
   ]
  },
  {
   "cell_type": "code",
   "execution_count": null,
   "metadata": {},
   "outputs": [],
   "source": []
  }
 ],
 "metadata": {
  "kernelspec": {
   "display_name": "Python 3 (default)",
   "language": "python",
   "name": "python3"
  },
  "language_info": {
   "codemirror_mode": {
    "name": "ipython",
    "version": 3
   },
   "file_extension": ".py",
   "mimetype": "text/x-python",
   "name": "python",
   "nbconvert_exporter": "python",
   "pygments_lexer": "ipython3",
   "version": "3.7.2"
  }
 },
 "nbformat": 4,
 "nbformat_minor": 2
}
